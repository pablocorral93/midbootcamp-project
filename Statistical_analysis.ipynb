{
  "nbformat": 4,
  "nbformat_minor": 0,
  "metadata": {
    "colab": {
      "provenance": []
    },
    "kernelspec": {
      "name": "python3",
      "display_name": "Python 3"
    },
    "language_info": {
      "name": "python"
    }
  },
  "cells": [
    {
      "cell_type": "code",
      "execution_count": 33,
      "metadata": {
        "id": "EzDe6Is9DDdc"
      },
      "outputs": [],
      "source": [
        "import pandas as pd\n",
        "import matplotlib.pyplot as plt\n",
        "import seaborn as sns\n",
        "from scipy.stats import ttest_1samp"
      ]
    },
    {
      "cell_type": "code",
      "source": [
        "file_path = 'Survey1.csv'\n",
        "\n",
        "# Try reading the CSV file with different encodings\n",
        "try:\n",
        "    df = pd.read_csv(file_path, encoding='utf-8')\n",
        "except UnicodeDecodeError:\n",
        "    # If 'utf-8' encoding fails, try 'latin-1' or 'ISO-8859-1'\n",
        "    df = pd.read_csv(file_path, encoding='latin-1')\n"
      ],
      "metadata": {
        "id": "j0BaZyrdEYBv"
      },
      "execution_count": 3,
      "outputs": []
    },
    {
      "cell_type": "code",
      "source": [
        "df.head()"
      ],
      "metadata": {
        "colab": {
          "base_uri": "https://localhost:8080/",
          "height": 449
        },
        "id": "Msg7IS78EeqO",
        "outputId": "94f29863-6079-4a9c-9349-50092c29a90c"
      },
      "execution_count": 4,
      "outputs": [
        {
          "output_type": "execute_result",
          "data": {
            "text/plain": [
              "   ID  Gender    Age Physical Activity (times per week)  \\\n",
              "0   1    Male  25-34                       4-5 per week   \n",
              "1   2  Female  25-34                       2-3 per week   \n",
              "2   3  Female  25-34                       2-3 per week   \n",
              "3   4    Male  25-34                       0-1 per week   \n",
              "4   5    Male  25-34                       4-5 per week   \n",
              "\n",
              "   On a scale of 1 to 5, how would you rate the impact of engaging in sports or physical activities on your overall wellness? (1 = Very low impact, 5 = Very high impact)  \\\n",
              "0                                                  5                                                                                                                        \n",
              "1                                                  4                                                                                                                        \n",
              "2                                                  5                                                                                                                        \n",
              "3                                                  5                                                                                                                        \n",
              "4                                                  5                                                                                                                        \n",
              "\n",
              "  What type of diet do you follow?  How often do you eat processed food?  \\\n",
              "0                          Omnivore                         1-2 per week   \n",
              "1                          Omnivore                             Everyday   \n",
              "2                          Omnivore                         1-2 per week   \n",
              "3                          Omnivore                         1-2 per week   \n",
              "4                          Omnivore                         1-2 per week   \n",
              "\n",
              "  How often do you eat fruits and vegetables?  \\\n",
              "0                                3-4 per week   \n",
              "1                                    Everyday   \n",
              "2                                    Everyday   \n",
              "3                                    Everyday   \n",
              "4                                    Everyday   \n",
              "\n",
              "   On a scale of 1 to 5, how would you rate the impact of your nutritional choices on your overall wellness?  \\\n",
              "0                                                  4                                                           \n",
              "1                                                  4                                                           \n",
              "2                                                  4                                                           \n",
              "3                                                  5                                                           \n",
              "4                                                  5                                                           \n",
              "\n",
              "  What are your primary wellness goals? (Select all that apply)  \\\n",
              "0    Improve mental health;Improve body composition;              \n",
              "1    Improve mental health;Improve body composition;              \n",
              "2      Improve mental health;Increase energy levels;              \n",
              "3  Weight management;Improve body composition;Inc...              \n",
              "4  Improve mental health;Weight management;Improv...              \n",
              "\n",
              "  How do you stay informed about wellness-related topics? (Select all that apply)  \\\n",
              "0                                      Social Media;                                \n",
              "1                                      Social Media;                                \n",
              "2                                      Social Media;                                \n",
              "3   Social Media; Fitness professionals or trainers;                                \n",
              "4                                      Social Media;                                \n",
              "\n",
              "  What are the primary challenges you face in maintaining a healthy lifestyle? (Select all that apply)  \n",
              "0  Lack of time for meal preparation;Limited time...                                                    \n",
              "1  Lack of time for meal preparation;Busy work sc...                                                    \n",
              "2  Busy work schedule;Lack of time for meal prepa...                                                    \n",
              "3  Busy work schedule;Limited time for regular ex...                                                    \n",
              "4  Limited time for regular exercise;Busy work sc...                                                    "
            ],
            "text/html": [
              "\n",
              "  <div id=\"df-2b4a5089-c8ea-4ec5-a28c-8860d3217685\" class=\"colab-df-container\">\n",
              "    <div>\n",
              "<style scoped>\n",
              "    .dataframe tbody tr th:only-of-type {\n",
              "        vertical-align: middle;\n",
              "    }\n",
              "\n",
              "    .dataframe tbody tr th {\n",
              "        vertical-align: top;\n",
              "    }\n",
              "\n",
              "    .dataframe thead th {\n",
              "        text-align: right;\n",
              "    }\n",
              "</style>\n",
              "<table border=\"1\" class=\"dataframe\">\n",
              "  <thead>\n",
              "    <tr style=\"text-align: right;\">\n",
              "      <th></th>\n",
              "      <th>ID</th>\n",
              "      <th>Gender</th>\n",
              "      <th>Age</th>\n",
              "      <th>Physical Activity (times per week)</th>\n",
              "      <th>On a scale of 1 to 5, how would you rate the impact of engaging in sports or physical activities on your overall wellness? (1 = Very low impact, 5 = Very high impact)</th>\n",
              "      <th>What type of diet do you follow?</th>\n",
              "      <th>How often do you eat processed food?</th>\n",
              "      <th>How often do you eat fruits and vegetables?</th>\n",
              "      <th>On a scale of 1 to 5, how would you rate the impact of your nutritional choices on your overall wellness?</th>\n",
              "      <th>What are your primary wellness goals? (Select all that apply)</th>\n",
              "      <th>How do you stay informed about wellness-related topics? (Select all that apply)</th>\n",
              "      <th>What are the primary challenges you face in maintaining a healthy lifestyle? (Select all that apply)</th>\n",
              "    </tr>\n",
              "  </thead>\n",
              "  <tbody>\n",
              "    <tr>\n",
              "      <th>0</th>\n",
              "      <td>1</td>\n",
              "      <td>Male</td>\n",
              "      <td>25-34</td>\n",
              "      <td>4-5 per week</td>\n",
              "      <td>5</td>\n",
              "      <td>Omnivore</td>\n",
              "      <td>1-2 per week</td>\n",
              "      <td>3-4 per week</td>\n",
              "      <td>4</td>\n",
              "      <td>Improve mental health;Improve body composition;</td>\n",
              "      <td>Social Media;</td>\n",
              "      <td>Lack of time for meal preparation;Limited time...</td>\n",
              "    </tr>\n",
              "    <tr>\n",
              "      <th>1</th>\n",
              "      <td>2</td>\n",
              "      <td>Female</td>\n",
              "      <td>25-34</td>\n",
              "      <td>2-3 per week</td>\n",
              "      <td>4</td>\n",
              "      <td>Omnivore</td>\n",
              "      <td>Everyday</td>\n",
              "      <td>Everyday</td>\n",
              "      <td>4</td>\n",
              "      <td>Improve mental health;Improve body composition;</td>\n",
              "      <td>Social Media;</td>\n",
              "      <td>Lack of time for meal preparation;Busy work sc...</td>\n",
              "    </tr>\n",
              "    <tr>\n",
              "      <th>2</th>\n",
              "      <td>3</td>\n",
              "      <td>Female</td>\n",
              "      <td>25-34</td>\n",
              "      <td>2-3 per week</td>\n",
              "      <td>5</td>\n",
              "      <td>Omnivore</td>\n",
              "      <td>1-2 per week</td>\n",
              "      <td>Everyday</td>\n",
              "      <td>4</td>\n",
              "      <td>Improve mental health;Increase energy levels;</td>\n",
              "      <td>Social Media;</td>\n",
              "      <td>Busy work schedule;Lack of time for meal prepa...</td>\n",
              "    </tr>\n",
              "    <tr>\n",
              "      <th>3</th>\n",
              "      <td>4</td>\n",
              "      <td>Male</td>\n",
              "      <td>25-34</td>\n",
              "      <td>0-1 per week</td>\n",
              "      <td>5</td>\n",
              "      <td>Omnivore</td>\n",
              "      <td>1-2 per week</td>\n",
              "      <td>Everyday</td>\n",
              "      <td>5</td>\n",
              "      <td>Weight management;Improve body composition;Inc...</td>\n",
              "      <td>Social Media; Fitness professionals or trainers;</td>\n",
              "      <td>Busy work schedule;Limited time for regular ex...</td>\n",
              "    </tr>\n",
              "    <tr>\n",
              "      <th>4</th>\n",
              "      <td>5</td>\n",
              "      <td>Male</td>\n",
              "      <td>25-34</td>\n",
              "      <td>4-5 per week</td>\n",
              "      <td>5</td>\n",
              "      <td>Omnivore</td>\n",
              "      <td>1-2 per week</td>\n",
              "      <td>Everyday</td>\n",
              "      <td>5</td>\n",
              "      <td>Improve mental health;Weight management;Improv...</td>\n",
              "      <td>Social Media;</td>\n",
              "      <td>Limited time for regular exercise;Busy work sc...</td>\n",
              "    </tr>\n",
              "  </tbody>\n",
              "</table>\n",
              "</div>\n",
              "    <div class=\"colab-df-buttons\">\n",
              "\n",
              "  <div class=\"colab-df-container\">\n",
              "    <button class=\"colab-df-convert\" onclick=\"convertToInteractive('df-2b4a5089-c8ea-4ec5-a28c-8860d3217685')\"\n",
              "            title=\"Convert this dataframe to an interactive table.\"\n",
              "            style=\"display:none;\">\n",
              "\n",
              "  <svg xmlns=\"http://www.w3.org/2000/svg\" height=\"24px\" viewBox=\"0 -960 960 960\">\n",
              "    <path d=\"M120-120v-720h720v720H120Zm60-500h600v-160H180v160Zm220 220h160v-160H400v160Zm0 220h160v-160H400v160ZM180-400h160v-160H180v160Zm440 0h160v-160H620v160ZM180-180h160v-160H180v160Zm440 0h160v-160H620v160Z\"/>\n",
              "  </svg>\n",
              "    </button>\n",
              "\n",
              "  <style>\n",
              "    .colab-df-container {\n",
              "      display:flex;\n",
              "      gap: 12px;\n",
              "    }\n",
              "\n",
              "    .colab-df-convert {\n",
              "      background-color: #E8F0FE;\n",
              "      border: none;\n",
              "      border-radius: 50%;\n",
              "      cursor: pointer;\n",
              "      display: none;\n",
              "      fill: #1967D2;\n",
              "      height: 32px;\n",
              "      padding: 0 0 0 0;\n",
              "      width: 32px;\n",
              "    }\n",
              "\n",
              "    .colab-df-convert:hover {\n",
              "      background-color: #E2EBFA;\n",
              "      box-shadow: 0px 1px 2px rgba(60, 64, 67, 0.3), 0px 1px 3px 1px rgba(60, 64, 67, 0.15);\n",
              "      fill: #174EA6;\n",
              "    }\n",
              "\n",
              "    .colab-df-buttons div {\n",
              "      margin-bottom: 4px;\n",
              "    }\n",
              "\n",
              "    [theme=dark] .colab-df-convert {\n",
              "      background-color: #3B4455;\n",
              "      fill: #D2E3FC;\n",
              "    }\n",
              "\n",
              "    [theme=dark] .colab-df-convert:hover {\n",
              "      background-color: #434B5C;\n",
              "      box-shadow: 0px 1px 3px 1px rgba(0, 0, 0, 0.15);\n",
              "      filter: drop-shadow(0px 1px 2px rgba(0, 0, 0, 0.3));\n",
              "      fill: #FFFFFF;\n",
              "    }\n",
              "  </style>\n",
              "\n",
              "    <script>\n",
              "      const buttonEl =\n",
              "        document.querySelector('#df-2b4a5089-c8ea-4ec5-a28c-8860d3217685 button.colab-df-convert');\n",
              "      buttonEl.style.display =\n",
              "        google.colab.kernel.accessAllowed ? 'block' : 'none';\n",
              "\n",
              "      async function convertToInteractive(key) {\n",
              "        const element = document.querySelector('#df-2b4a5089-c8ea-4ec5-a28c-8860d3217685');\n",
              "        const dataTable =\n",
              "          await google.colab.kernel.invokeFunction('convertToInteractive',\n",
              "                                                    [key], {});\n",
              "        if (!dataTable) return;\n",
              "\n",
              "        const docLinkHtml = 'Like what you see? Visit the ' +\n",
              "          '<a target=\"_blank\" href=https://colab.research.google.com/notebooks/data_table.ipynb>data table notebook</a>'\n",
              "          + ' to learn more about interactive tables.';\n",
              "        element.innerHTML = '';\n",
              "        dataTable['output_type'] = 'display_data';\n",
              "        await google.colab.output.renderOutput(dataTable, element);\n",
              "        const docLink = document.createElement('div');\n",
              "        docLink.innerHTML = docLinkHtml;\n",
              "        element.appendChild(docLink);\n",
              "      }\n",
              "    </script>\n",
              "  </div>\n",
              "\n",
              "\n",
              "<div id=\"df-b00821e4-4a93-40fc-83e6-781a9249739b\">\n",
              "  <button class=\"colab-df-quickchart\" onclick=\"quickchart('df-b00821e4-4a93-40fc-83e6-781a9249739b')\"\n",
              "            title=\"Suggest charts\"\n",
              "            style=\"display:none;\">\n",
              "\n",
              "<svg xmlns=\"http://www.w3.org/2000/svg\" height=\"24px\"viewBox=\"0 0 24 24\"\n",
              "     width=\"24px\">\n",
              "    <g>\n",
              "        <path d=\"M19 3H5c-1.1 0-2 .9-2 2v14c0 1.1.9 2 2 2h14c1.1 0 2-.9 2-2V5c0-1.1-.9-2-2-2zM9 17H7v-7h2v7zm4 0h-2V7h2v10zm4 0h-2v-4h2v4z\"/>\n",
              "    </g>\n",
              "</svg>\n",
              "  </button>\n",
              "\n",
              "<style>\n",
              "  .colab-df-quickchart {\n",
              "      --bg-color: #E8F0FE;\n",
              "      --fill-color: #1967D2;\n",
              "      --hover-bg-color: #E2EBFA;\n",
              "      --hover-fill-color: #174EA6;\n",
              "      --disabled-fill-color: #AAA;\n",
              "      --disabled-bg-color: #DDD;\n",
              "  }\n",
              "\n",
              "  [theme=dark] .colab-df-quickchart {\n",
              "      --bg-color: #3B4455;\n",
              "      --fill-color: #D2E3FC;\n",
              "      --hover-bg-color: #434B5C;\n",
              "      --hover-fill-color: #FFFFFF;\n",
              "      --disabled-bg-color: #3B4455;\n",
              "      --disabled-fill-color: #666;\n",
              "  }\n",
              "\n",
              "  .colab-df-quickchart {\n",
              "    background-color: var(--bg-color);\n",
              "    border: none;\n",
              "    border-radius: 50%;\n",
              "    cursor: pointer;\n",
              "    display: none;\n",
              "    fill: var(--fill-color);\n",
              "    height: 32px;\n",
              "    padding: 0;\n",
              "    width: 32px;\n",
              "  }\n",
              "\n",
              "  .colab-df-quickchart:hover {\n",
              "    background-color: var(--hover-bg-color);\n",
              "    box-shadow: 0 1px 2px rgba(60, 64, 67, 0.3), 0 1px 3px 1px rgba(60, 64, 67, 0.15);\n",
              "    fill: var(--button-hover-fill-color);\n",
              "  }\n",
              "\n",
              "  .colab-df-quickchart-complete:disabled,\n",
              "  .colab-df-quickchart-complete:disabled:hover {\n",
              "    background-color: var(--disabled-bg-color);\n",
              "    fill: var(--disabled-fill-color);\n",
              "    box-shadow: none;\n",
              "  }\n",
              "\n",
              "  .colab-df-spinner {\n",
              "    border: 2px solid var(--fill-color);\n",
              "    border-color: transparent;\n",
              "    border-bottom-color: var(--fill-color);\n",
              "    animation:\n",
              "      spin 1s steps(1) infinite;\n",
              "  }\n",
              "\n",
              "  @keyframes spin {\n",
              "    0% {\n",
              "      border-color: transparent;\n",
              "      border-bottom-color: var(--fill-color);\n",
              "      border-left-color: var(--fill-color);\n",
              "    }\n",
              "    20% {\n",
              "      border-color: transparent;\n",
              "      border-left-color: var(--fill-color);\n",
              "      border-top-color: var(--fill-color);\n",
              "    }\n",
              "    30% {\n",
              "      border-color: transparent;\n",
              "      border-left-color: var(--fill-color);\n",
              "      border-top-color: var(--fill-color);\n",
              "      border-right-color: var(--fill-color);\n",
              "    }\n",
              "    40% {\n",
              "      border-color: transparent;\n",
              "      border-right-color: var(--fill-color);\n",
              "      border-top-color: var(--fill-color);\n",
              "    }\n",
              "    60% {\n",
              "      border-color: transparent;\n",
              "      border-right-color: var(--fill-color);\n",
              "    }\n",
              "    80% {\n",
              "      border-color: transparent;\n",
              "      border-right-color: var(--fill-color);\n",
              "      border-bottom-color: var(--fill-color);\n",
              "    }\n",
              "    90% {\n",
              "      border-color: transparent;\n",
              "      border-bottom-color: var(--fill-color);\n",
              "    }\n",
              "  }\n",
              "</style>\n",
              "\n",
              "  <script>\n",
              "    async function quickchart(key) {\n",
              "      const quickchartButtonEl =\n",
              "        document.querySelector('#' + key + ' button');\n",
              "      quickchartButtonEl.disabled = true;  // To prevent multiple clicks.\n",
              "      quickchartButtonEl.classList.add('colab-df-spinner');\n",
              "      try {\n",
              "        const charts = await google.colab.kernel.invokeFunction(\n",
              "            'suggestCharts', [key], {});\n",
              "      } catch (error) {\n",
              "        console.error('Error during call to suggestCharts:', error);\n",
              "      }\n",
              "      quickchartButtonEl.classList.remove('colab-df-spinner');\n",
              "      quickchartButtonEl.classList.add('colab-df-quickchart-complete');\n",
              "    }\n",
              "    (() => {\n",
              "      let quickchartButtonEl =\n",
              "        document.querySelector('#df-b00821e4-4a93-40fc-83e6-781a9249739b button');\n",
              "      quickchartButtonEl.style.display =\n",
              "        google.colab.kernel.accessAllowed ? 'block' : 'none';\n",
              "    })();\n",
              "  </script>\n",
              "</div>\n",
              "    </div>\n",
              "  </div>\n"
            ]
          },
          "metadata": {},
          "execution_count": 4
        }
      ]
    },
    {
      "cell_type": "code",
      "source": [
        "df.columns"
      ],
      "metadata": {
        "colab": {
          "base_uri": "https://localhost:8080/"
        },
        "id": "XF8QGhpsC4iK",
        "outputId": "f6c065cb-62d0-4e02-fd63-4158c9d0c88e"
      },
      "execution_count": 5,
      "outputs": [
        {
          "output_type": "execute_result",
          "data": {
            "text/plain": [
              "Index(['ID', 'Gender', 'Age', 'Physical Activity (times per week)',\n",
              "       'On a scale of 1 to 5, how would you rate the impact of engaging in sports or physical activities on your overall wellness? (1 = Very low impact, 5 = Very high impact)',\n",
              "       'What type of diet do you follow? ',\n",
              "       'How often do you eat processed food?',\n",
              "       'How often do you eat fruits and vegetables?',\n",
              "       'On a scale of 1 to 5, how would you rate the impact of your nutritional choices on your overall wellness?',\n",
              "       'What are your primary wellness goals? (Select all that apply)',\n",
              "       'How do you stay informed about wellness-related topics? (Select all that apply)',\n",
              "       'What are the primary challenges you face in maintaining a healthy lifestyle? (Select all that apply)'],\n",
              "      dtype='object')"
            ]
          },
          "metadata": {},
          "execution_count": 5
        }
      ]
    },
    {
      "cell_type": "code",
      "source": [
        "#Re-naming the columns to make them more easy to handle\n",
        "new_columns = ['ID','Gender', 'Age','Physical Activity', 'Impact of sports in wellness','Diet', 'Processed food frequency', 'Fruits and Vegetables frequency','Impact of nutrition in wellness','Primary wellness goals','How do you stay informed?','Main Challenges']"
      ],
      "metadata": {
        "id": "5GjArqCAG123"
      },
      "execution_count": 6,
      "outputs": []
    },
    {
      "cell_type": "code",
      "source": [
        "df.columns = new_columns"
      ],
      "metadata": {
        "id": "deg6expgEbgU"
      },
      "execution_count": 7,
      "outputs": []
    },
    {
      "cell_type": "code",
      "source": [
        "df.head()"
      ],
      "metadata": {
        "colab": {
          "base_uri": "https://localhost:8080/",
          "height": 310
        },
        "id": "phjgjNazEfqJ",
        "outputId": "07edd383-8280-4148-f6ad-ca1432376fca"
      },
      "execution_count": 8,
      "outputs": [
        {
          "output_type": "execute_result",
          "data": {
            "text/plain": [
              "   ID  Gender    Age Physical Activity  Impact of sports in wellness  \\\n",
              "0   1    Male  25-34      4-5 per week                             5   \n",
              "1   2  Female  25-34      2-3 per week                             4   \n",
              "2   3  Female  25-34      2-3 per week                             5   \n",
              "3   4    Male  25-34      0-1 per week                             5   \n",
              "4   5    Male  25-34      4-5 per week                             5   \n",
              "\n",
              "       Diet Processed food frequency Fruits and Vegetables frequency  \\\n",
              "0  Omnivore             1-2 per week                    3-4 per week   \n",
              "1  Omnivore                 Everyday                        Everyday   \n",
              "2  Omnivore             1-2 per week                        Everyday   \n",
              "3  Omnivore             1-2 per week                        Everyday   \n",
              "4  Omnivore             1-2 per week                        Everyday   \n",
              "\n",
              "   Impact of nutrition in wellness  \\\n",
              "0                                4   \n",
              "1                                4   \n",
              "2                                4   \n",
              "3                                5   \n",
              "4                                5   \n",
              "\n",
              "                              Primary wellness goals  \\\n",
              "0    Improve mental health;Improve body composition;   \n",
              "1    Improve mental health;Improve body composition;   \n",
              "2      Improve mental health;Increase energy levels;   \n",
              "3  Weight management;Improve body composition;Inc...   \n",
              "4  Improve mental health;Weight management;Improv...   \n",
              "\n",
              "                          How do you stay informed?  \\\n",
              "0                                     Social Media;   \n",
              "1                                     Social Media;   \n",
              "2                                     Social Media;   \n",
              "3  Social Media; Fitness professionals or trainers;   \n",
              "4                                     Social Media;   \n",
              "\n",
              "                                     Main Challenges  \n",
              "0  Lack of time for meal preparation;Limited time...  \n",
              "1  Lack of time for meal preparation;Busy work sc...  \n",
              "2  Busy work schedule;Lack of time for meal prepa...  \n",
              "3  Busy work schedule;Limited time for regular ex...  \n",
              "4  Limited time for regular exercise;Busy work sc...  "
            ],
            "text/html": [
              "\n",
              "  <div id=\"df-956098a1-fdce-4b72-a2a2-8975f55ad122\" class=\"colab-df-container\">\n",
              "    <div>\n",
              "<style scoped>\n",
              "    .dataframe tbody tr th:only-of-type {\n",
              "        vertical-align: middle;\n",
              "    }\n",
              "\n",
              "    .dataframe tbody tr th {\n",
              "        vertical-align: top;\n",
              "    }\n",
              "\n",
              "    .dataframe thead th {\n",
              "        text-align: right;\n",
              "    }\n",
              "</style>\n",
              "<table border=\"1\" class=\"dataframe\">\n",
              "  <thead>\n",
              "    <tr style=\"text-align: right;\">\n",
              "      <th></th>\n",
              "      <th>ID</th>\n",
              "      <th>Gender</th>\n",
              "      <th>Age</th>\n",
              "      <th>Physical Activity</th>\n",
              "      <th>Impact of sports in wellness</th>\n",
              "      <th>Diet</th>\n",
              "      <th>Processed food frequency</th>\n",
              "      <th>Fruits and Vegetables frequency</th>\n",
              "      <th>Impact of nutrition in wellness</th>\n",
              "      <th>Primary wellness goals</th>\n",
              "      <th>How do you stay informed?</th>\n",
              "      <th>Main Challenges</th>\n",
              "    </tr>\n",
              "  </thead>\n",
              "  <tbody>\n",
              "    <tr>\n",
              "      <th>0</th>\n",
              "      <td>1</td>\n",
              "      <td>Male</td>\n",
              "      <td>25-34</td>\n",
              "      <td>4-5 per week</td>\n",
              "      <td>5</td>\n",
              "      <td>Omnivore</td>\n",
              "      <td>1-2 per week</td>\n",
              "      <td>3-4 per week</td>\n",
              "      <td>4</td>\n",
              "      <td>Improve mental health;Improve body composition;</td>\n",
              "      <td>Social Media;</td>\n",
              "      <td>Lack of time for meal preparation;Limited time...</td>\n",
              "    </tr>\n",
              "    <tr>\n",
              "      <th>1</th>\n",
              "      <td>2</td>\n",
              "      <td>Female</td>\n",
              "      <td>25-34</td>\n",
              "      <td>2-3 per week</td>\n",
              "      <td>4</td>\n",
              "      <td>Omnivore</td>\n",
              "      <td>Everyday</td>\n",
              "      <td>Everyday</td>\n",
              "      <td>4</td>\n",
              "      <td>Improve mental health;Improve body composition;</td>\n",
              "      <td>Social Media;</td>\n",
              "      <td>Lack of time for meal preparation;Busy work sc...</td>\n",
              "    </tr>\n",
              "    <tr>\n",
              "      <th>2</th>\n",
              "      <td>3</td>\n",
              "      <td>Female</td>\n",
              "      <td>25-34</td>\n",
              "      <td>2-3 per week</td>\n",
              "      <td>5</td>\n",
              "      <td>Omnivore</td>\n",
              "      <td>1-2 per week</td>\n",
              "      <td>Everyday</td>\n",
              "      <td>4</td>\n",
              "      <td>Improve mental health;Increase energy levels;</td>\n",
              "      <td>Social Media;</td>\n",
              "      <td>Busy work schedule;Lack of time for meal prepa...</td>\n",
              "    </tr>\n",
              "    <tr>\n",
              "      <th>3</th>\n",
              "      <td>4</td>\n",
              "      <td>Male</td>\n",
              "      <td>25-34</td>\n",
              "      <td>0-1 per week</td>\n",
              "      <td>5</td>\n",
              "      <td>Omnivore</td>\n",
              "      <td>1-2 per week</td>\n",
              "      <td>Everyday</td>\n",
              "      <td>5</td>\n",
              "      <td>Weight management;Improve body composition;Inc...</td>\n",
              "      <td>Social Media; Fitness professionals or trainers;</td>\n",
              "      <td>Busy work schedule;Limited time for regular ex...</td>\n",
              "    </tr>\n",
              "    <tr>\n",
              "      <th>4</th>\n",
              "      <td>5</td>\n",
              "      <td>Male</td>\n",
              "      <td>25-34</td>\n",
              "      <td>4-5 per week</td>\n",
              "      <td>5</td>\n",
              "      <td>Omnivore</td>\n",
              "      <td>1-2 per week</td>\n",
              "      <td>Everyday</td>\n",
              "      <td>5</td>\n",
              "      <td>Improve mental health;Weight management;Improv...</td>\n",
              "      <td>Social Media;</td>\n",
              "      <td>Limited time for regular exercise;Busy work sc...</td>\n",
              "    </tr>\n",
              "  </tbody>\n",
              "</table>\n",
              "</div>\n",
              "    <div class=\"colab-df-buttons\">\n",
              "\n",
              "  <div class=\"colab-df-container\">\n",
              "    <button class=\"colab-df-convert\" onclick=\"convertToInteractive('df-956098a1-fdce-4b72-a2a2-8975f55ad122')\"\n",
              "            title=\"Convert this dataframe to an interactive table.\"\n",
              "            style=\"display:none;\">\n",
              "\n",
              "  <svg xmlns=\"http://www.w3.org/2000/svg\" height=\"24px\" viewBox=\"0 -960 960 960\">\n",
              "    <path d=\"M120-120v-720h720v720H120Zm60-500h600v-160H180v160Zm220 220h160v-160H400v160Zm0 220h160v-160H400v160ZM180-400h160v-160H180v160Zm440 0h160v-160H620v160ZM180-180h160v-160H180v160Zm440 0h160v-160H620v160Z\"/>\n",
              "  </svg>\n",
              "    </button>\n",
              "\n",
              "  <style>\n",
              "    .colab-df-container {\n",
              "      display:flex;\n",
              "      gap: 12px;\n",
              "    }\n",
              "\n",
              "    .colab-df-convert {\n",
              "      background-color: #E8F0FE;\n",
              "      border: none;\n",
              "      border-radius: 50%;\n",
              "      cursor: pointer;\n",
              "      display: none;\n",
              "      fill: #1967D2;\n",
              "      height: 32px;\n",
              "      padding: 0 0 0 0;\n",
              "      width: 32px;\n",
              "    }\n",
              "\n",
              "    .colab-df-convert:hover {\n",
              "      background-color: #E2EBFA;\n",
              "      box-shadow: 0px 1px 2px rgba(60, 64, 67, 0.3), 0px 1px 3px 1px rgba(60, 64, 67, 0.15);\n",
              "      fill: #174EA6;\n",
              "    }\n",
              "\n",
              "    .colab-df-buttons div {\n",
              "      margin-bottom: 4px;\n",
              "    }\n",
              "\n",
              "    [theme=dark] .colab-df-convert {\n",
              "      background-color: #3B4455;\n",
              "      fill: #D2E3FC;\n",
              "    }\n",
              "\n",
              "    [theme=dark] .colab-df-convert:hover {\n",
              "      background-color: #434B5C;\n",
              "      box-shadow: 0px 1px 3px 1px rgba(0, 0, 0, 0.15);\n",
              "      filter: drop-shadow(0px 1px 2px rgba(0, 0, 0, 0.3));\n",
              "      fill: #FFFFFF;\n",
              "    }\n",
              "  </style>\n",
              "\n",
              "    <script>\n",
              "      const buttonEl =\n",
              "        document.querySelector('#df-956098a1-fdce-4b72-a2a2-8975f55ad122 button.colab-df-convert');\n",
              "      buttonEl.style.display =\n",
              "        google.colab.kernel.accessAllowed ? 'block' : 'none';\n",
              "\n",
              "      async function convertToInteractive(key) {\n",
              "        const element = document.querySelector('#df-956098a1-fdce-4b72-a2a2-8975f55ad122');\n",
              "        const dataTable =\n",
              "          await google.colab.kernel.invokeFunction('convertToInteractive',\n",
              "                                                    [key], {});\n",
              "        if (!dataTable) return;\n",
              "\n",
              "        const docLinkHtml = 'Like what you see? Visit the ' +\n",
              "          '<a target=\"_blank\" href=https://colab.research.google.com/notebooks/data_table.ipynb>data table notebook</a>'\n",
              "          + ' to learn more about interactive tables.';\n",
              "        element.innerHTML = '';\n",
              "        dataTable['output_type'] = 'display_data';\n",
              "        await google.colab.output.renderOutput(dataTable, element);\n",
              "        const docLink = document.createElement('div');\n",
              "        docLink.innerHTML = docLinkHtml;\n",
              "        element.appendChild(docLink);\n",
              "      }\n",
              "    </script>\n",
              "  </div>\n",
              "\n",
              "\n",
              "<div id=\"df-da9efd56-6c4b-4898-8cff-07ddfcd7e48d\">\n",
              "  <button class=\"colab-df-quickchart\" onclick=\"quickchart('df-da9efd56-6c4b-4898-8cff-07ddfcd7e48d')\"\n",
              "            title=\"Suggest charts\"\n",
              "            style=\"display:none;\">\n",
              "\n",
              "<svg xmlns=\"http://www.w3.org/2000/svg\" height=\"24px\"viewBox=\"0 0 24 24\"\n",
              "     width=\"24px\">\n",
              "    <g>\n",
              "        <path d=\"M19 3H5c-1.1 0-2 .9-2 2v14c0 1.1.9 2 2 2h14c1.1 0 2-.9 2-2V5c0-1.1-.9-2-2-2zM9 17H7v-7h2v7zm4 0h-2V7h2v10zm4 0h-2v-4h2v4z\"/>\n",
              "    </g>\n",
              "</svg>\n",
              "  </button>\n",
              "\n",
              "<style>\n",
              "  .colab-df-quickchart {\n",
              "      --bg-color: #E8F0FE;\n",
              "      --fill-color: #1967D2;\n",
              "      --hover-bg-color: #E2EBFA;\n",
              "      --hover-fill-color: #174EA6;\n",
              "      --disabled-fill-color: #AAA;\n",
              "      --disabled-bg-color: #DDD;\n",
              "  }\n",
              "\n",
              "  [theme=dark] .colab-df-quickchart {\n",
              "      --bg-color: #3B4455;\n",
              "      --fill-color: #D2E3FC;\n",
              "      --hover-bg-color: #434B5C;\n",
              "      --hover-fill-color: #FFFFFF;\n",
              "      --disabled-bg-color: #3B4455;\n",
              "      --disabled-fill-color: #666;\n",
              "  }\n",
              "\n",
              "  .colab-df-quickchart {\n",
              "    background-color: var(--bg-color);\n",
              "    border: none;\n",
              "    border-radius: 50%;\n",
              "    cursor: pointer;\n",
              "    display: none;\n",
              "    fill: var(--fill-color);\n",
              "    height: 32px;\n",
              "    padding: 0;\n",
              "    width: 32px;\n",
              "  }\n",
              "\n",
              "  .colab-df-quickchart:hover {\n",
              "    background-color: var(--hover-bg-color);\n",
              "    box-shadow: 0 1px 2px rgba(60, 64, 67, 0.3), 0 1px 3px 1px rgba(60, 64, 67, 0.15);\n",
              "    fill: var(--button-hover-fill-color);\n",
              "  }\n",
              "\n",
              "  .colab-df-quickchart-complete:disabled,\n",
              "  .colab-df-quickchart-complete:disabled:hover {\n",
              "    background-color: var(--disabled-bg-color);\n",
              "    fill: var(--disabled-fill-color);\n",
              "    box-shadow: none;\n",
              "  }\n",
              "\n",
              "  .colab-df-spinner {\n",
              "    border: 2px solid var(--fill-color);\n",
              "    border-color: transparent;\n",
              "    border-bottom-color: var(--fill-color);\n",
              "    animation:\n",
              "      spin 1s steps(1) infinite;\n",
              "  }\n",
              "\n",
              "  @keyframes spin {\n",
              "    0% {\n",
              "      border-color: transparent;\n",
              "      border-bottom-color: var(--fill-color);\n",
              "      border-left-color: var(--fill-color);\n",
              "    }\n",
              "    20% {\n",
              "      border-color: transparent;\n",
              "      border-left-color: var(--fill-color);\n",
              "      border-top-color: var(--fill-color);\n",
              "    }\n",
              "    30% {\n",
              "      border-color: transparent;\n",
              "      border-left-color: var(--fill-color);\n",
              "      border-top-color: var(--fill-color);\n",
              "      border-right-color: var(--fill-color);\n",
              "    }\n",
              "    40% {\n",
              "      border-color: transparent;\n",
              "      border-right-color: var(--fill-color);\n",
              "      border-top-color: var(--fill-color);\n",
              "    }\n",
              "    60% {\n",
              "      border-color: transparent;\n",
              "      border-right-color: var(--fill-color);\n",
              "    }\n",
              "    80% {\n",
              "      border-color: transparent;\n",
              "      border-right-color: var(--fill-color);\n",
              "      border-bottom-color: var(--fill-color);\n",
              "    }\n",
              "    90% {\n",
              "      border-color: transparent;\n",
              "      border-bottom-color: var(--fill-color);\n",
              "    }\n",
              "  }\n",
              "</style>\n",
              "\n",
              "  <script>\n",
              "    async function quickchart(key) {\n",
              "      const quickchartButtonEl =\n",
              "        document.querySelector('#' + key + ' button');\n",
              "      quickchartButtonEl.disabled = true;  // To prevent multiple clicks.\n",
              "      quickchartButtonEl.classList.add('colab-df-spinner');\n",
              "      try {\n",
              "        const charts = await google.colab.kernel.invokeFunction(\n",
              "            'suggestCharts', [key], {});\n",
              "      } catch (error) {\n",
              "        console.error('Error during call to suggestCharts:', error);\n",
              "      }\n",
              "      quickchartButtonEl.classList.remove('colab-df-spinner');\n",
              "      quickchartButtonEl.classList.add('colab-df-quickchart-complete');\n",
              "    }\n",
              "    (() => {\n",
              "      let quickchartButtonEl =\n",
              "        document.querySelector('#df-da9efd56-6c4b-4898-8cff-07ddfcd7e48d button');\n",
              "      quickchartButtonEl.style.display =\n",
              "        google.colab.kernel.accessAllowed ? 'block' : 'none';\n",
              "    })();\n",
              "  </script>\n",
              "</div>\n",
              "    </div>\n",
              "  </div>\n"
            ]
          },
          "metadata": {},
          "execution_count": 8
        }
      ]
    },
    {
      "cell_type": "code",
      "source": [
        "# Count the occurrences of each unique value in the 'Age' column\n",
        "age_counts = df['Age'].value_counts()\n",
        "\n",
        "# Calculate the percentage of each unique value in the 'Age' column out of the total count\n",
        "age_percentage = age_counts / age_counts.sum() * 100\n"
      ],
      "metadata": {
        "id": "JolKYT6mSOqn"
      },
      "execution_count": 9,
      "outputs": []
    },
    {
      "cell_type": "code",
      "source": [
        "age_percentage"
      ],
      "metadata": {
        "colab": {
          "base_uri": "https://localhost:8080/"
        },
        "id": "WHZuNbXoDBID",
        "outputId": "b226eae1-822e-4341-f885-c98d32f9838a"
      },
      "execution_count": 10,
      "outputs": [
        {
          "output_type": "execute_result",
          "data": {
            "text/plain": [
              "25-34    69.953052\n",
              "35-44    13.615023\n",
              "18-24    12.676056\n",
              "45-54     1.877934\n",
              "55+       1.877934\n",
              "Name: Age, dtype: float64"
            ]
          },
          "metadata": {},
          "execution_count": 10
        }
      ]
    },
    {
      "cell_type": "code",
      "source": [
        "gender_counts = df['Gender'].value_counts()\n",
        "\n",
        "# Calculate the percentage of each unique value in the 'Age' column out of the total count\n",
        "gender_percentage = gender_counts / gender_counts.sum() * 100\n",
        "\n",
        "gender_percentage"
      ],
      "metadata": {
        "colab": {
          "base_uri": "https://localhost:8080/"
        },
        "id": "zKvcwcAVW1SN",
        "outputId": "96450aa5-ff4a-4b28-d4da-8ba939acc25e"
      },
      "execution_count": 11,
      "outputs": [
        {
          "output_type": "execute_result",
          "data": {
            "text/plain": [
              "Female        57.276995\n",
              "Male          42.253521\n",
              "Non-binary     0.469484\n",
              "Name: Gender, dtype: float64"
            ]
          },
          "metadata": {},
          "execution_count": 11
        }
      ]
    },
    {
      "cell_type": "code",
      "source": [
        "# Count the occurrences of each unique value in the 'Physical Activity' column\n",
        "physical_activity_counts = df['Physical Activity'].value_counts()\n",
        "\n",
        "# Calculate the percentage of each unique value in the 'Physical Activity' column out of the total count\n",
        "percentage_physical_activity = physical_activity_counts / physical_activity_counts.sum() * 100\n"
      ],
      "metadata": {
        "id": "GmbUgXvdRd3n"
      },
      "execution_count": 12,
      "outputs": []
    },
    {
      "cell_type": "code",
      "source": [
        "percentage_physical_activity"
      ],
      "metadata": {
        "colab": {
          "base_uri": "https://localhost:8080/"
        },
        "id": "aHu11x3SwFXF",
        "outputId": "901e52a3-1e86-4455-fb51-740cf627e9ce"
      },
      "execution_count": 13,
      "outputs": [
        {
          "output_type": "execute_result",
          "data": {
            "text/plain": [
              "2-3 per week    39.906103\n",
              "0-1 per week    27.699531\n",
              "4-5 per week    24.413146\n",
              "5+               7.981221\n",
              "Name: Physical Activity, dtype: float64"
            ]
          },
          "metadata": {},
          "execution_count": 13
        }
      ]
    },
    {
      "cell_type": "code",
      "source": [
        "# Count the occurrences of each unique value in the 'Physical Activity' column by gender\n",
        "activity_by_gender = df.groupby('Gender')['Physical Activity'].value_counts().unstack()\n",
        "\n",
        "# Calculate the percentage of each unique value in the 'Physical Activity' column out of the total count for each gender\n",
        "percentage_activity_by_gender = activity_by_gender.div(activity_by_gender.sum(axis=1), axis=0) * 100\n",
        "\n",
        "# Display the result\n",
        "print(percentage_activity_by_gender)\n"
      ],
      "metadata": {
        "colab": {
          "base_uri": "https://localhost:8080/"
        },
        "id": "Uz2WC2WpMmft",
        "outputId": "7912d352-1c79-482e-8ee5-9fa6590fedd5"
      },
      "execution_count": 14,
      "outputs": [
        {
          "output_type": "stream",
          "name": "stdout",
          "text": [
            "Physical Activity  0-1 per week  2-3 per week  4-5 per week          5+\n",
            "Gender                                                                 \n",
            "Female                32.786885     46.721311     17.213115    3.278689\n",
            "Male                  21.111111     31.111111     34.444444   13.333333\n",
            "Non-binary                  NaN           NaN           NaN  100.000000\n"
          ]
        }
      ]
    },
    {
      "cell_type": "code",
      "source": [
        "import matplotlib.pyplot as plt\n",
        "\n",
        "\n",
        "# Sample data\n",
        "percentage_by_gender = {'Male': 47, 'Female': 20}\n",
        "\n",
        "# Extracting data for plotting\n",
        "genders = list(percentage_by_gender.keys())\n",
        "percentages = list(percentage_by_gender.values())\n",
        "\n",
        "# Creating a bar chart\n",
        "plt.bar(genders, percentages, color=['lightblue', 'lightgreen'])\n",
        "\n",
        "# Setting y-axis limits to 0% to 80%\n",
        "plt.ylim(0, 60)\n",
        "\n",
        "# Adding labels and title\n",
        "plt.xlabel('Gender')\n",
        "plt.ylabel('Percentage')\n",
        "plt.title('Works Out 4 or More Times per Week')\n",
        "\n",
        "# Adding percentage labels on top of the bars\n",
        "for i, percentage in enumerate(percentages):\n",
        "    plt.text(i, percentage + 1, f'{percentage}%', ha='center')\n",
        "\n",
        "# Show the plot\n",
        "plt.show()\n"
      ],
      "metadata": {
        "colab": {
          "base_uri": "https://localhost:8080/",
          "height": 472
        },
        "id": "AEMNaVM4OlkC",
        "outputId": "07167d3a-edce-4ef6-f8e6-60276345e327"
      },
      "execution_count": 15,
      "outputs": [
        {
          "output_type": "display_data",
          "data": {
            "text/plain": [
              "<Figure size 640x480 with 1 Axes>"
            ],
            "image/png": "[encoded data removed]"
          },
          "metadata": {}
        }
      ]
    },
    {
      "cell_type": "code",
      "source": [
        "#Almost 50% of men, work out at least 4 or more times per week, while only 20% on women workout 4 or more times per week"
      ],
      "metadata": {
        "id": "iR2jnsY-M_vO"
      },
      "execution_count": 16,
      "outputs": []
    },
    {
      "cell_type": "code",
      "source": [
        "# Sample data (replace with your actual data)\n",
        "categories = percentage_physical_activity.index.tolist()\n",
        "percentages = percentage_physical_activity.values.tolist()\n",
        "\n",
        "# Create the bar graph\n",
        "plt.figure(figsize=(8, 6))\n",
        "bars = plt.bar(categories, percentages, color='skyblue')\n",
        "\n",
        "# Add labels and title\n",
        "plt.xlabel('Physical activity')\n",
        "plt.ylabel('Percentage')\n",
        "plt.title('Physical activity Frequency')\n",
        "\n",
        "# Add percentage labels to each bar\n",
        "for bar, percentage in zip(bars, percentages):\n",
        "    height = bar.get_height()\n",
        "    plt.text(bar.get_x() + bar.get_width() / 2, height, f'{percentage:.2f}%', ha='center', va='bottom')\n",
        "\n",
        "# Show the plot\n",
        "plt.xticks(rotation=45)  # Rotate x-axis labels for better readability\n",
        "plt.tight_layout()\n",
        "plt.ylim(0, 70)\n",
        "plt.show()"
      ],
      "metadata": {
        "colab": {
          "base_uri": "https://localhost:8080/",
          "height": 607
        },
        "id": "Uj9ktHOyz896",
        "outputId": "cbbd26fc-5426-4e0e-c8a2-374e443ef4ba"
      },
      "execution_count": 17,
      "outputs": [
        {
          "output_type": "display_data",
          "data": {
            "text/plain": [
              "<Figure size 800x600 with 1 Axes>"
            ],
            "image/png": "[encoded data removed]"
          },
          "metadata": {}
        }
      ]
    },
    {
      "cell_type": "code",
      "source": [
        "df['Impact of sports in wellness'].mean()"
      ],
      "metadata": {
        "colab": {
          "base_uri": "https://localhost:8080/"
        },
        "id": "ndpfks2MDCPj",
        "outputId": "a72054c9-a4fc-4afc-a3c1-2c2637120534"
      },
      "execution_count": 18,
      "outputs": [
        {
          "output_type": "execute_result",
          "data": {
            "text/plain": [
              "4.056338028169014"
            ]
          },
          "metadata": {},
          "execution_count": 18
        }
      ]
    },
    {
      "cell_type": "code",
      "source": [
        "df['Impact of nutrition in wellness'].mean()"
      ],
      "metadata": {
        "colab": {
          "base_uri": "https://localhost:8080/"
        },
        "id": "KYMVIOPADfnj",
        "outputId": "92d57535-4516-4d31-d3f2-03e6cfcefbde"
      },
      "execution_count": 19,
      "outputs": [
        {
          "output_type": "execute_result",
          "data": {
            "text/plain": [
              "4.098591549295775"
            ]
          },
          "metadata": {},
          "execution_count": 19
        }
      ]
    },
    {
      "cell_type": "code",
      "source": [
        "# Set the threshold for high impact\n",
        "\n",
        "\n",
        "threshold = 3.5\n",
        "\n",
        "# Perform one-sample t-test for 'Impact of sports in wellness'\n",
        "t_stat_sports, p_value_sports = ttest_1samp(df['Impact of sports in wellness'], threshold, alternative='greater')\n",
        "\n",
        "# Perform one-sample t-test for 'Impact of nutrition in wellness'\n",
        "t_stat_nutrition, p_value_nutrition = ttest_1samp(df['Impact of nutrition in wellness'], threshold, alternative='greater')\n",
        "\n",
        "# Display the results\n",
        "print(f\"Results for 'Impact of sports in wellness':\")\n",
        "print(f\"T-statistic: {t_stat_sports}\")\n",
        "print(f\"P-value: {p_value_sports}\")\n",
        "print(f\"{'Reject' if p_value_sports < 0.05 else 'Fail to reject'} the null hypothesis\")\n",
        "\n",
        "print(\"\\nResults for 'Impact of nutrition in wellness':\")\n",
        "print(f\"T-statistic: {t_stat_nutrition}\")\n",
        "print(f\"P-value: {p_value_nutrition}\")\n",
        "print(f\"{'Reject' if p_value_nutrition < 0.05 else 'Fail to reject'} the null hypothesis\")"
      ],
      "metadata": {
        "colab": {
          "base_uri": "https://localhost:8080/"
        },
        "id": "Rrv0TAi6EHtQ",
        "outputId": "14c734c8-d162-469c-dce4-0e8876bc354c"
      },
      "execution_count": 20,
      "outputs": [
        {
          "output_type": "stream",
          "name": "stdout",
          "text": [
            "Results for 'Impact of sports in wellness':\n",
            "T-statistic: 8.546962864371588\n",
            "P-value: 1.2504113417484375e-15\n",
            "Reject the null hypothesis\n",
            "\n",
            "Results for 'Impact of nutrition in wellness':\n",
            "T-statistic: 10.42312232968982\n",
            "P-value: 4.1867801722044816e-21\n",
            "Reject the null hypothesis\n"
          ]
        }
      ]
    },
    {
      "cell_type": "code",
      "source": [
        "# Count the occurrences of each unique value in the 'Fruits and Vegetables frequency' column\n",
        "fruits_vegetables_counts = df['Fruits and Vegetables frequency'].value_counts()\n",
        "\n",
        "# Calculate the percentage of each unique value in the 'Fruits and Vegetables frequency' column out of the total count\n",
        "fruits_vegetables_percentage = fruits_vegetables_counts / fruits_vegetables_counts.sum() * 100\n"
      ],
      "metadata": {
        "id": "MZOi7sKMzNrG"
      },
      "execution_count": 21,
      "outputs": []
    },
    {
      "cell_type": "code",
      "source": [
        "fruits_vegetables_percentage"
      ],
      "metadata": {
        "colab": {
          "base_uri": "https://localhost:8080/"
        },
        "id": "5gF6Lf4mzVSX",
        "outputId": "538cd770-f391-440e-de70-8d7abe0a795e"
      },
      "execution_count": 22,
      "outputs": [
        {
          "output_type": "execute_result",
          "data": {
            "text/plain": [
              "Everyday        64.788732\n",
              "3-4 per week    24.413146\n",
              "1-2 per week     9.389671\n",
              "Never            1.408451\n",
              "Name: Fruits and Vegetables frequency, dtype: float64"
            ]
          },
          "metadata": {},
          "execution_count": 22
        }
      ]
    },
    {
      "cell_type": "code",
      "source": [
        "import matplotlib.pyplot as plt\n",
        "\n",
        "# Sample data (replace with your actual data)\n",
        "categories = fruits_vegetables_percentage.index.tolist()\n",
        "percentages = fruits_vegetables_percentage.values.tolist()\n",
        "\n",
        "# Create the bar graph\n",
        "plt.figure(figsize=(8, 6))\n",
        "bars = plt.bar(categories, percentages, color='skyblue')\n",
        "\n",
        "# Add labels and title\n",
        "plt.xlabel('Frequency of Fruits and Vegetables')\n",
        "plt.ylabel('Percentage')\n",
        "plt.title('Percentage of Fruits and Vegetables Frequency')\n",
        "\n",
        "# Add percentage labels to each bar\n",
        "for bar, percentage in zip(bars, percentages):\n",
        "    height = bar.get_height()\n",
        "    plt.text(bar.get_x() + bar.get_width() / 2, height, f'{percentage:.2f}%', ha='center', va='bottom')\n",
        "\n",
        "# Show the plot\n",
        "plt.xticks(rotation=45)  # Rotate x-axis labels for better readability\n",
        "plt.tight_layout()\n",
        "plt.ylim(0, 100)\n",
        "plt.show()\n",
        "\n"
      ],
      "metadata": {
        "colab": {
          "base_uri": "https://localhost:8080/",
          "height": 607
        },
        "id": "X42G_osDQ4Rt",
        "outputId": "944c99fc-5c69-43cb-d862-1fbe33e19513"
      },
      "execution_count": 23,
      "outputs": [
        {
          "output_type": "display_data",
          "data": {
            "text/plain": [
              "<Figure size 800x600 with 1 Axes>"
            ],
            "image/png": "[encoded data removed]"
          },
          "metadata": {}
        }
      ]
    },
    {
      "cell_type": "code",
      "source": [
        "# Count the occurrences of each unique value in the 'Physical Activity' column by gender\n",
        "healthy_food_by_gender = df.groupby('Gender')['Fruits and Vegetables frequency'].value_counts().unstack()\n",
        "\n",
        "# Calculate the percentage of each unique value in the 'Physical Activity' column out of the total count for each gender\n",
        "percentage_healthy_food_by_gender = healthy_food_by_gender.div(healthy_food_by_gender.sum(axis=1), axis=0) * 100\n",
        "\n",
        "# Display the result\n",
        "print(percentage_healthy_food_by_gender)"
      ],
      "metadata": {
        "colab": {
          "base_uri": "https://localhost:8080/"
        },
        "id": "nSipwDueXS2q",
        "outputId": "bf3c40d0-8cf4-46b9-eaa2-94ffc238b17b"
      },
      "execution_count": 24,
      "outputs": [
        {
          "output_type": "stream",
          "name": "stdout",
          "text": [
            "Fruits and Vegetables frequency  1-2 per week  3-4 per week    Everyday  \\\n",
            "Gender                                                                    \n",
            "Female                               4.098361     21.311475   73.770492   \n",
            "Male                                16.666667     28.888889   52.222222   \n",
            "Non-binary                                NaN           NaN  100.000000   \n",
            "\n",
            "Fruits and Vegetables frequency     Never  \n",
            "Gender                                     \n",
            "Female                           0.819672  \n",
            "Male                             2.222222  \n",
            "Non-binary                            NaN  \n"
          ]
        }
      ]
    },
    {
      "cell_type": "code",
      "source": [
        "percentage_by_gender = {'Male': 52, 'Female': 74}\n",
        "\n",
        "# Extracting data for plotting\n",
        "genders = list(percentage_by_gender.keys())\n",
        "percentages = list(percentage_by_gender.values())\n",
        "\n",
        "# Creating a bar chart\n",
        "plt.bar(genders, percentages, color=['lightblue', 'lightgreen'])\n",
        "\n",
        "# Setting y-axis limits to 0% to 80%\n",
        "plt.ylim(0, 100)\n",
        "\n",
        "# Adding labels and title\n",
        "plt.xlabel('Gender')\n",
        "plt.ylabel('Percentage')\n",
        "plt.title('Eats fruits and vegetables everyday')\n",
        "\n",
        "# Adding percentage labels on top of the bars\n",
        "for i, percentage in enumerate(percentages):\n",
        "    plt.text(i, percentage + 1, f'{percentage}%', ha='center')\n",
        "\n",
        "# Show the plot\n",
        "plt.show()"
      ],
      "metadata": {
        "colab": {
          "base_uri": "https://localhost:8080/",
          "height": 472
        },
        "id": "3AKbQJfxYqnn",
        "outputId": "94dc2e83-4401-43b5-a34d-caabadd6b77b"
      },
      "execution_count": 25,
      "outputs": [
        {
          "output_type": "display_data",
          "data": {
            "text/plain": [
              "<Figure size 640x480 with 1 Axes>"
            ],
            "image/png": "[encoded data removed]"
          },
          "metadata": {}
        }
      ]
    },
    {
      "cell_type": "code",
      "source": [
        "# Count the occurrences of each unique value in the 'Processed food frequency' column\n",
        "Processed_food_frequency_counts = df['Processed food frequency'].value_counts()\n",
        "\n",
        "# Calculate the percentage of each unique value in the 'Processed food frequency' column out of the total count\n",
        "Processed_food_frequency_percentage = Processed_food_frequency_counts / Processed_food_frequency_counts.sum() * 100\n"
      ],
      "metadata": {
        "id": "7mTCsNskziOP"
      },
      "execution_count": 26,
      "outputs": []
    },
    {
      "cell_type": "code",
      "source": [
        "Processed_food_frequency_percentage"
      ],
      "metadata": {
        "colab": {
          "base_uri": "https://localhost:8080/"
        },
        "id": "I4mjPugmzii-",
        "outputId": "4f859df4-dab4-42e7-8b2b-ea84f3c1fed2"
      },
      "execution_count": 27,
      "outputs": [
        {
          "output_type": "execute_result",
          "data": {
            "text/plain": [
              "1-2 per week    57.276995\n",
              "3-4 per week    27.699531\n",
              "Everyday        10.328638\n",
              "Never            4.694836\n",
              "Name: Processed food frequency, dtype: float64"
            ]
          },
          "metadata": {},
          "execution_count": 27
        }
      ]
    },
    {
      "cell_type": "code",
      "source": [
        "# Sample data (replace with your actual data)\n",
        "categories = Processed_food_frequency_percentage.index.tolist()\n",
        "percentages = Processed_food_frequency_percentage.values.tolist()\n",
        "\n",
        "# Create the bar graph\n",
        "plt.figure(figsize=(8, 6))\n",
        "bars = plt.bar(categories, percentages, color='skyblue')\n",
        "\n",
        "# Add labels and title\n",
        "plt.xlabel('Frequency of processed food')\n",
        "plt.ylabel('Percentage')\n",
        "plt.title('Percentage of processed food frequency')\n",
        "\n",
        "# Add percentage labels to each bar\n",
        "for bar, percentage in zip(bars, percentages):\n",
        "    height = bar.get_height()\n",
        "    plt.text(bar.get_x() + bar.get_width() / 2, height, f'{percentage:.2f}%', ha='center', va='bottom')\n",
        "\n",
        "# Show the plot\n",
        "plt.xticks(rotation=45)  # Rotate x-axis labels for better readability\n",
        "plt.tight_layout()\n",
        "plt.ylim(0, 100)\n",
        "plt.show()"
      ],
      "metadata": {
        "colab": {
          "base_uri": "https://localhost:8080/",
          "height": 607
        },
        "id": "j3vfogBLquJu",
        "outputId": "f70cb241-5963-43e2-a19c-52e444e24ab4"
      },
      "execution_count": 28,
      "outputs": [
        {
          "output_type": "display_data",
          "data": {
            "text/plain": [
              "<Figure size 800x600 with 1 Axes>"
            ],
            "image/png": "[encoded data removed]"
          },
          "metadata": {}
        }
      ]
    },
    {
      "cell_type": "code",
      "source": [
        "junk_food_by_gender = df.groupby('Gender')['Processed food frequency'].value_counts().unstack()\n",
        "\n",
        "# Calculate the percentage of each unique value in the 'Physical Activity' column out of the total count for each gender\n",
        "percentage_junk_food_by_gender = junk_food_by_gender.div(junk_food_by_gender.sum(axis=1), axis=0) * 100\n",
        "\n",
        "# Display the result\n",
        "print(percentage_junk_food_by_gender)"
      ],
      "metadata": {
        "colab": {
          "base_uri": "https://localhost:8080/"
        },
        "id": "yl69SJsQYLkp",
        "outputId": "5adc2114-ea8a-4dc6-d640-50c306bf90e0"
      },
      "execution_count": 29,
      "outputs": [
        {
          "output_type": "stream",
          "name": "stdout",
          "text": [
            "Processed food frequency  1-2 per week  3-4 per week   Everyday       Never\n",
            "Gender                                                                     \n",
            "Female                       63.934426     22.950820   9.016393    4.098361\n",
            "Male                         48.888889     34.444444  12.222222    4.444444\n",
            "Non-binary                         NaN           NaN        NaN  100.000000\n"
          ]
        }
      ]
    },
    {
      "cell_type": "code",
      "source": [
        "# Remove trailing semicolon from each element in the 'Primary wellness goals' column\n",
        "df['Primary wellness goals'] = df['Primary wellness goals'].astype(str).str.rstrip(';')\n",
        "\n",
        "\n",
        "# Create a new DataFrame to store the separated values from 'Primary wellness goals' column\n",
        "# The 'stack' function is used to reshape the DataFrame, making it suitable for counting\n",
        "split_df = df['Primary wellness goals'].str.split(';', expand=True).stack()\n",
        "\n",
        "# Count the occurrences of each aspect after splitting\n",
        "aspect_counts = split_df.value_counts()\n",
        "\n",
        "# Calculate the percentage of the total for each aspect\n",
        "percentage_of_total = aspect_counts / aspect_counts.sum() * 100\n",
        "\n",
        "# Display the result - percentage of each aspect out of the total\n",
        "print(percentage_of_total)\n"
      ],
      "metadata": {
        "colab": {
          "base_uri": "https://localhost:8080/"
        },
        "id": "6h5TsEQrDp-z",
        "outputId": "cc268da3-8abe-4448-dcbf-4ff813d97f67"
      },
      "execution_count": 30,
      "outputs": [
        {
          "output_type": "stream",
          "name": "stdout",
          "text": [
            "Improve mental health                                 30.451128\n",
            "Improve body composition                              23.496241\n",
            "Increase energy levels                                22.744361\n",
            "Weight management                                     20.488722\n",
            "Not negatively impact my health                        0.187970\n",
            "Compensate with workouts                               0.187970\n",
            "Longevity                                              0.187970\n",
            "Fun                                                    0.187970\n",
            "General health                                         0.187970\n",
            "Staying balanced and fit in general                    0.187970\n",
            "Get stronger                                           0.187970\n",
            "Be as biologically close to a gorilla as possible      0.187970\n",
            "Eat clean and respectfully (with me and animals)       0.187970\n",
            "Memory wellness                                        0.187970\n",
            "Keep healthy and stay away from illnesses              0.187970\n",
            "Address medical issues                                 0.187970\n",
            "Improve fitness level                                  0.187970\n",
            "Improve overall wellness                               0.187970\n",
            "Be jacked as hell                                      0.187970\n",
            "dtype: float64\n"
          ]
        }
      ]
    },
    {
      "cell_type": "code",
      "source": [
        "# Remove trailing semicolon from each element in the 'How do you stay informed?' column\n",
        "df['How do you stay informed?'] = df['How do you stay informed?'].astype(str).str.rstrip(';')\n",
        "\n",
        "# Create a new DataFrame to store the separated values from 'How do you stay informed?' column\n",
        "# The 'stack' function is used to reshape the DataFrame, making it suitable for counting\n",
        "split_df = df['How do you stay informed?'].str.split(';', expand=True).stack()\n",
        "\n",
        "# Count the occurrences of each aspect after splitting\n",
        "aspect_counts = split_df.value_counts()\n",
        "\n",
        "# Calculate the percentage of the total for each aspect\n",
        "percentage_of_total = aspect_counts / aspect_counts.sum() * 100\n",
        "\n",
        "# Display the result - percentage of each aspect out of the total\n",
        "print(percentage_of_total)\n"
      ],
      "metadata": {
        "colab": {
          "base_uri": "https://localhost:8080/"
        },
        "id": "R4h_EuZEEsGz",
        "outputId": "db604c41-9df7-4265-e5e6-2ccf1f5398e6"
      },
      "execution_count": 31,
      "outputs": [
        {
          "output_type": "stream",
          "name": "stdout",
          "text": [
            "Social Media                                              48.059701\n",
            " Fitness professionals or trainers                        20.895522\n",
            "Books and literature                                      14.029851\n",
            "Health and wellness apps                                  10.746269\n",
            "None                                                       0.895522\n",
            "Friends and family                                         0.597015\n",
            "I don't                                                    0.597015\n",
            "Doctors                                                    0.298507\n",
            "Holistic medical professionals                             0.298507\n",
            "Conversations with friends                                 0.298507\n",
            "Word of mouth                                              0.298507\n",
            "Radio and TV documentaries                                 0.298507\n",
            "Do not                                                     0.298507\n",
            "Googling and reading articles                              0.298507\n",
            "Dedicated websites                                         0.298507\n",
            "Professional Nutritionist                                  0.298507\n",
            "Online resources (not social media)                        0.298507\n",
            "Internet articles                                          0.298507\n",
            "My wife os a diet chef                                     0.298507\n",
            "I don't follow this topic                                  0.298507\n",
            "Fiends, people that have been training for a long time     0.298507\n",
            "dtype: float64\n"
          ]
        }
      ]
    },
    {
      "cell_type": "code",
      "source": [
        "import matplotlib.pyplot as plt\n",
        "\n",
        "# Data\n",
        "labels = ['Social Media', 'Fitness professionals or trainers', 'Books and literature ', 'Health and wellness apps', 'Others']\n",
        "values = [48, 21, 13, 10,8]\n",
        "\n",
        "# Combine values less than 5% into 'Others'\n",
        "\n",
        "# Create the pie chart\n",
        "plt.figure(figsize=(8, 8))\n",
        "plt.pie(values, labels=None, startangle=140)\n",
        "plt.title('Wellness Goals Distribution')\n",
        "plt.show()\n"
      ],
      "metadata": {
        "colab": {
          "base_uri": "https://localhost:8080/",
          "height": 675
        },
        "id": "U1saIj2ZzmJc",
        "outputId": "45bd015a-221e-44f8-fe8d-f74bc85f208e"
      },
      "execution_count": 32,
      "outputs": [
        {
          "output_type": "display_data",
          "data": {
            "text/plain": [
              "<Figure size 800x800 with 1 Axes>"
            ],
            "image/png": "[encoded data removed]"
          },
          "metadata": {}
        }
      ]
    },
    {
      "cell_type": "code",
      "source": [],
      "metadata": {
        "id": "3Q5TquOisJcc"
      },
      "execution_count": 32,
      "outputs": []
    }
  ]
}